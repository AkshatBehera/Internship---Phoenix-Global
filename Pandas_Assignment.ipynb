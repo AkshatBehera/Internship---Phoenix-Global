{
  "nbformat": 4,
  "nbformat_minor": 0,
  "metadata": {
    "kernelspec": {
      "display_name": "Python 3",
      "language": "python",
      "name": "python3"
    },
    "language_info": {
      "codemirror_mode": {
        "name": "ipython",
        "version": 3
      },
      "file_extension": ".py",
      "mimetype": "text/x-python",
      "name": "python",
      "nbconvert_exporter": "python",
      "pygments_lexer": "ipython3",
      "version": "3.7.4"
    },
    "colab": {
      "name": "AkshatBehera_Pandas_Assignment.ipynb",
      "provenance": [],
      "collapsed_sections": []
    }
  },
  "cells": [
    {
      "cell_type": "markdown",
      "metadata": {
        "id": "K98bIfOkf4OC"
      },
      "source": [
        "\n",
        "\n",
        "```\n",
        "# PANDAS ASSIGNMENT\n",
        "```\n",
        "Akshat Behera - \n",
        "Pandas Assignment - Dataset(africa) - 12th August 2021"
      ]
    },
    {
      "cell_type": "markdown",
      "metadata": {
        "id": "hogHI7B9f4OJ"
      },
      "source": [
        "# Pandas Exercises - Akshat Behera - 12th August 2021 - Completed\n",
        "\n",
        "\n",
        "**Source of the Data: https://www.kaggle.com/chirin/africa-economic-banking-and-systemic-crisis-data/downloads/africa-economic-banking-and-systemic-crisis-data.zip/1**\n",
        "\n",
        "\n",
        "This dataset is a derivative of Reinhart et. al's Global Financial Stability dataset which can be found online at: https://www.hbs.edu/behavioral-finance-and-financial-stability/data/Pages/global.aspx\n",
        "\n",
        "The dataset will be valuable to those who seek to understand the dynamics of financial stability within the African context.\n",
        "\n",
        "Content\n",
        "The dataset specifically focuses on the Banking, Debt, Financial, Inflation and Systemic Crises that occurred, from 1860 to 2014, in 13 African countries, including: Algeria, Angola, Central African Republic, Ivory Coast, Egypt, Kenya, Mauritius, Morocco, Nigeria, South Africa, Tunisia, Zambia and Zimbabwe.\n",
        "\n",
        "\n",
        "\n",
        "* caseA     number which denotes a specific country\n",
        "* cc3A     three letter country code\n",
        "* country    The name of the country\n",
        "* year   The year of the observation\n",
        "* systemic_crisis\"0\" means that no systemic crisis occurred in the year and \"1\" means that a systemic crisis occurred in the year.\n",
        "* exch_usd    The exchange rate of the country vis-a-vis the USD\n",
        "* domestic_debt_in_default   \"0\" means that no sovereign domestic debt default occurred in the year and \"1\" means that a sovereign domestic debt default occurred in the year\n",
        "* sovereign_external_debt_default  \"0\" means that no sovereign external debt default occurred in the year and \"1\" means that a sovereign external debt default occurred in the year\n",
        "* gdp_weighted_default    The total debt in default vis-a-vis the GDP\n",
        "* inflation_annual_cpi    The annual CPI Inflation rate\n",
        "* independence   \"0\" means \"no independence\" and \"1\" means \"independence\"\n",
        "* currency_crises  \"0\" means that no currency crisis occurred in the year and \"1\" means that a currency crisis occurred in the year\n",
        "* inflation_crises  \"0\" means that no inflation crisis occurred in the year and \"1\" means that an inflation crisis occurred in the year\n",
        "* banking_crisis\"no_crisis\" means that no banking crisis occurred in the year and \"crisis\" means that a banking crisis occurred in the year"
      ]
    },
    {
      "cell_type": "markdown",
      "metadata": {
        "id": "LXHIpkaCf4OK"
      },
      "source": [
        "\n",
        "---\n",
        "# Complete the Tasks Below\n",
        "---"
      ]
    },
    {
      "cell_type": "markdown",
      "metadata": {
        "id": "dFul8Xlzf4OL"
      },
      "source": [
        "**TASK: Import pandas**"
      ]
    },
    {
      "cell_type": "code",
      "metadata": {
        "id": "qVxrifrbf4OL"
      },
      "source": [
        "import pandas as pd       ##Completed"
      ],
      "execution_count": 47,
      "outputs": []
    },
    {
      "cell_type": "markdown",
      "metadata": {
        "id": "FeviBvGkf4OM"
      },
      "source": [
        "**TASK:  Read in the african_econ_crises.csv file that is located under the 01-Crash-Course-Pandas folder. Pay close attention to where the .csv file is located! Please don't post to the QA forums if you can't figure this one out, instead, run our solutions notebook directly to see how its done.**"
      ]
    },
    {
      "cell_type": "code",
      "metadata": {
        "id": "yl74uKL-f4ON"
      },
      "source": [
        "df = pd.read_csv('/content/sample_data/african_econ_crises.csv')\n",
        "\n"
      ],
      "execution_count": 3,
      "outputs": []
    },
    {
      "cell_type": "code",
      "metadata": {
        "id": "o4m5N5VYf4OO",
        "colab": {
          "base_uri": "https://localhost:8080/",
          "height": 439
        },
        "outputId": "b0a52338-3e03-414f-8c0d-ee300088308a"
      },
      "source": [
        "df"
      ],
      "execution_count": 4,
      "outputs": [
        {
          "output_type": "execute_result",
          "data": {
            "text/html": [
              "<div>\n",
              "<style scoped>\n",
              "    .dataframe tbody tr th:only-of-type {\n",
              "        vertical-align: middle;\n",
              "    }\n",
              "\n",
              "    .dataframe tbody tr th {\n",
              "        vertical-align: top;\n",
              "    }\n",
              "\n",
              "    .dataframe thead th {\n",
              "        text-align: right;\n",
              "    }\n",
              "</style>\n",
              "<table border=\"1\" class=\"dataframe\">\n",
              "  <thead>\n",
              "    <tr style=\"text-align: right;\">\n",
              "      <th></th>\n",
              "      <th>case</th>\n",
              "      <th>cc3</th>\n",
              "      <th>country</th>\n",
              "      <th>year</th>\n",
              "      <th>systemic_crisis</th>\n",
              "      <th>exch_usd</th>\n",
              "      <th>domestic_debt_in_default</th>\n",
              "      <th>sovereign_external_debt_default</th>\n",
              "      <th>gdp_weighted_default</th>\n",
              "      <th>inflation_annual_cpi</th>\n",
              "      <th>independence</th>\n",
              "      <th>currency_crises</th>\n",
              "      <th>inflation_crises</th>\n",
              "      <th>banking_crisis</th>\n",
              "    </tr>\n",
              "  </thead>\n",
              "  <tbody>\n",
              "    <tr>\n",
              "      <th>0</th>\n",
              "      <td>1</td>\n",
              "      <td>DZA</td>\n",
              "      <td>Algeria</td>\n",
              "      <td>1870</td>\n",
              "      <td>1</td>\n",
              "      <td>0.052264</td>\n",
              "      <td>0</td>\n",
              "      <td>0</td>\n",
              "      <td>0.0</td>\n",
              "      <td>3.441456</td>\n",
              "      <td>0</td>\n",
              "      <td>0</td>\n",
              "      <td>0</td>\n",
              "      <td>crisis</td>\n",
              "    </tr>\n",
              "    <tr>\n",
              "      <th>1</th>\n",
              "      <td>1</td>\n",
              "      <td>DZA</td>\n",
              "      <td>Algeria</td>\n",
              "      <td>1871</td>\n",
              "      <td>0</td>\n",
              "      <td>0.052798</td>\n",
              "      <td>0</td>\n",
              "      <td>0</td>\n",
              "      <td>0.0</td>\n",
              "      <td>14.149140</td>\n",
              "      <td>0</td>\n",
              "      <td>0</td>\n",
              "      <td>0</td>\n",
              "      <td>no_crisis</td>\n",
              "    </tr>\n",
              "    <tr>\n",
              "      <th>2</th>\n",
              "      <td>1</td>\n",
              "      <td>DZA</td>\n",
              "      <td>Algeria</td>\n",
              "      <td>1872</td>\n",
              "      <td>0</td>\n",
              "      <td>0.052274</td>\n",
              "      <td>0</td>\n",
              "      <td>0</td>\n",
              "      <td>0.0</td>\n",
              "      <td>-3.718593</td>\n",
              "      <td>0</td>\n",
              "      <td>0</td>\n",
              "      <td>0</td>\n",
              "      <td>no_crisis</td>\n",
              "    </tr>\n",
              "    <tr>\n",
              "      <th>3</th>\n",
              "      <td>1</td>\n",
              "      <td>DZA</td>\n",
              "      <td>Algeria</td>\n",
              "      <td>1873</td>\n",
              "      <td>0</td>\n",
              "      <td>0.051680</td>\n",
              "      <td>0</td>\n",
              "      <td>0</td>\n",
              "      <td>0.0</td>\n",
              "      <td>11.203897</td>\n",
              "      <td>0</td>\n",
              "      <td>0</td>\n",
              "      <td>0</td>\n",
              "      <td>no_crisis</td>\n",
              "    </tr>\n",
              "    <tr>\n",
              "      <th>4</th>\n",
              "      <td>1</td>\n",
              "      <td>DZA</td>\n",
              "      <td>Algeria</td>\n",
              "      <td>1874</td>\n",
              "      <td>0</td>\n",
              "      <td>0.051308</td>\n",
              "      <td>0</td>\n",
              "      <td>0</td>\n",
              "      <td>0.0</td>\n",
              "      <td>-3.848561</td>\n",
              "      <td>0</td>\n",
              "      <td>0</td>\n",
              "      <td>0</td>\n",
              "      <td>no_crisis</td>\n",
              "    </tr>\n",
              "    <tr>\n",
              "      <th>...</th>\n",
              "      <td>...</td>\n",
              "      <td>...</td>\n",
              "      <td>...</td>\n",
              "      <td>...</td>\n",
              "      <td>...</td>\n",
              "      <td>...</td>\n",
              "      <td>...</td>\n",
              "      <td>...</td>\n",
              "      <td>...</td>\n",
              "      <td>...</td>\n",
              "      <td>...</td>\n",
              "      <td>...</td>\n",
              "      <td>...</td>\n",
              "      <td>...</td>\n",
              "    </tr>\n",
              "    <tr>\n",
              "      <th>1054</th>\n",
              "      <td>70</td>\n",
              "      <td>ZWE</td>\n",
              "      <td>Zimbabwe</td>\n",
              "      <td>2009</td>\n",
              "      <td>1</td>\n",
              "      <td>354.800000</td>\n",
              "      <td>1</td>\n",
              "      <td>1</td>\n",
              "      <td>0.0</td>\n",
              "      <td>-7.670000</td>\n",
              "      <td>1</td>\n",
              "      <td>1</td>\n",
              "      <td>0</td>\n",
              "      <td>crisis</td>\n",
              "    </tr>\n",
              "    <tr>\n",
              "      <th>1055</th>\n",
              "      <td>70</td>\n",
              "      <td>ZWE</td>\n",
              "      <td>Zimbabwe</td>\n",
              "      <td>2010</td>\n",
              "      <td>0</td>\n",
              "      <td>378.200000</td>\n",
              "      <td>1</td>\n",
              "      <td>1</td>\n",
              "      <td>0.0</td>\n",
              "      <td>3.217000</td>\n",
              "      <td>1</td>\n",
              "      <td>0</td>\n",
              "      <td>0</td>\n",
              "      <td>no_crisis</td>\n",
              "    </tr>\n",
              "    <tr>\n",
              "      <th>1056</th>\n",
              "      <td>70</td>\n",
              "      <td>ZWE</td>\n",
              "      <td>Zimbabwe</td>\n",
              "      <td>2011</td>\n",
              "      <td>0</td>\n",
              "      <td>361.900000</td>\n",
              "      <td>1</td>\n",
              "      <td>1</td>\n",
              "      <td>0.0</td>\n",
              "      <td>4.920000</td>\n",
              "      <td>1</td>\n",
              "      <td>0</td>\n",
              "      <td>0</td>\n",
              "      <td>no_crisis</td>\n",
              "    </tr>\n",
              "    <tr>\n",
              "      <th>1057</th>\n",
              "      <td>70</td>\n",
              "      <td>ZWE</td>\n",
              "      <td>Zimbabwe</td>\n",
              "      <td>2012</td>\n",
              "      <td>0</td>\n",
              "      <td>361.900000</td>\n",
              "      <td>1</td>\n",
              "      <td>1</td>\n",
              "      <td>0.0</td>\n",
              "      <td>3.720000</td>\n",
              "      <td>1</td>\n",
              "      <td>0</td>\n",
              "      <td>0</td>\n",
              "      <td>no_crisis</td>\n",
              "    </tr>\n",
              "    <tr>\n",
              "      <th>1058</th>\n",
              "      <td>70</td>\n",
              "      <td>ZWE</td>\n",
              "      <td>Zimbabwe</td>\n",
              "      <td>2013</td>\n",
              "      <td>0</td>\n",
              "      <td>361.900000</td>\n",
              "      <td>1</td>\n",
              "      <td>1</td>\n",
              "      <td>0.0</td>\n",
              "      <td>1.632000</td>\n",
              "      <td>1</td>\n",
              "      <td>0</td>\n",
              "      <td>0</td>\n",
              "      <td>no_crisis</td>\n",
              "    </tr>\n",
              "  </tbody>\n",
              "</table>\n",
              "<p>1059 rows × 14 columns</p>\n",
              "</div>"
            ],
            "text/plain": [
              "      case  cc3   country  ...  currency_crises  inflation_crises  banking_crisis\n",
              "0        1  DZA   Algeria  ...                0                 0          crisis\n",
              "1        1  DZA   Algeria  ...                0                 0       no_crisis\n",
              "2        1  DZA   Algeria  ...                0                 0       no_crisis\n",
              "3        1  DZA   Algeria  ...                0                 0       no_crisis\n",
              "4        1  DZA   Algeria  ...                0                 0       no_crisis\n",
              "...    ...  ...       ...  ...              ...               ...             ...\n",
              "1054    70  ZWE  Zimbabwe  ...                1                 0          crisis\n",
              "1055    70  ZWE  Zimbabwe  ...                0                 0       no_crisis\n",
              "1056    70  ZWE  Zimbabwe  ...                0                 0       no_crisis\n",
              "1057    70  ZWE  Zimbabwe  ...                0                 0       no_crisis\n",
              "1058    70  ZWE  Zimbabwe  ...                0                 0       no_crisis\n",
              "\n",
              "[1059 rows x 14 columns]"
            ]
          },
          "metadata": {
            "tags": []
          },
          "execution_count": 4
        }
      ]
    },
    {
      "cell_type": "markdown",
      "metadata": {
        "id": "fQt590BVf4OO"
      },
      "source": [
        "**TASK: Display the first 5 rows of the data set**"
      ]
    },
    {
      "cell_type": "code",
      "metadata": {
        "id": "U9_XEEumf4OO"
      },
      "source": [
        "# CODE HERE"
      ],
      "execution_count": null,
      "outputs": []
    },
    {
      "cell_type": "code",
      "metadata": {
        "id": "Iuf3x29wf4OP",
        "colab": {
          "base_uri": "https://localhost:8080/",
          "height": 224
        },
        "outputId": "7c943418-2213-404c-d46a-25a16fb7f22d"
      },
      "source": [
        "df.head()       ##Completed"
      ],
      "execution_count": 46,
      "outputs": [
        {
          "output_type": "execute_result",
          "data": {
            "text/html": [
              "<div>\n",
              "<style scoped>\n",
              "    .dataframe tbody tr th:only-of-type {\n",
              "        vertical-align: middle;\n",
              "    }\n",
              "\n",
              "    .dataframe tbody tr th {\n",
              "        vertical-align: top;\n",
              "    }\n",
              "\n",
              "    .dataframe thead th {\n",
              "        text-align: right;\n",
              "    }\n",
              "</style>\n",
              "<table border=\"1\" class=\"dataframe\">\n",
              "  <thead>\n",
              "    <tr style=\"text-align: right;\">\n",
              "      <th></th>\n",
              "      <th>case</th>\n",
              "      <th>cc3</th>\n",
              "      <th>country</th>\n",
              "      <th>year</th>\n",
              "      <th>systemic_crisis</th>\n",
              "      <th>exch_usd</th>\n",
              "      <th>domestic_debt_in_default</th>\n",
              "      <th>sovereign_external_debt_default</th>\n",
              "      <th>gdp_weighted_default</th>\n",
              "      <th>inflation_annual_cpi</th>\n",
              "      <th>independence</th>\n",
              "      <th>currency_crises</th>\n",
              "      <th>inflation_crises</th>\n",
              "      <th>banking_crisis</th>\n",
              "    </tr>\n",
              "  </thead>\n",
              "  <tbody>\n",
              "    <tr>\n",
              "      <th>0</th>\n",
              "      <td>1</td>\n",
              "      <td>DZA</td>\n",
              "      <td>Algeria</td>\n",
              "      <td>1870</td>\n",
              "      <td>1</td>\n",
              "      <td>0.052264</td>\n",
              "      <td>0</td>\n",
              "      <td>0</td>\n",
              "      <td>0.0</td>\n",
              "      <td>3.441456</td>\n",
              "      <td>0</td>\n",
              "      <td>0</td>\n",
              "      <td>0</td>\n",
              "      <td>crisis</td>\n",
              "    </tr>\n",
              "    <tr>\n",
              "      <th>1</th>\n",
              "      <td>1</td>\n",
              "      <td>DZA</td>\n",
              "      <td>Algeria</td>\n",
              "      <td>1871</td>\n",
              "      <td>0</td>\n",
              "      <td>0.052798</td>\n",
              "      <td>0</td>\n",
              "      <td>0</td>\n",
              "      <td>0.0</td>\n",
              "      <td>14.149140</td>\n",
              "      <td>0</td>\n",
              "      <td>0</td>\n",
              "      <td>0</td>\n",
              "      <td>no_crisis</td>\n",
              "    </tr>\n",
              "    <tr>\n",
              "      <th>2</th>\n",
              "      <td>1</td>\n",
              "      <td>DZA</td>\n",
              "      <td>Algeria</td>\n",
              "      <td>1872</td>\n",
              "      <td>0</td>\n",
              "      <td>0.052274</td>\n",
              "      <td>0</td>\n",
              "      <td>0</td>\n",
              "      <td>0.0</td>\n",
              "      <td>-3.718593</td>\n",
              "      <td>0</td>\n",
              "      <td>0</td>\n",
              "      <td>0</td>\n",
              "      <td>no_crisis</td>\n",
              "    </tr>\n",
              "    <tr>\n",
              "      <th>3</th>\n",
              "      <td>1</td>\n",
              "      <td>DZA</td>\n",
              "      <td>Algeria</td>\n",
              "      <td>1873</td>\n",
              "      <td>0</td>\n",
              "      <td>0.051680</td>\n",
              "      <td>0</td>\n",
              "      <td>0</td>\n",
              "      <td>0.0</td>\n",
              "      <td>11.203897</td>\n",
              "      <td>0</td>\n",
              "      <td>0</td>\n",
              "      <td>0</td>\n",
              "      <td>no_crisis</td>\n",
              "    </tr>\n",
              "    <tr>\n",
              "      <th>4</th>\n",
              "      <td>1</td>\n",
              "      <td>DZA</td>\n",
              "      <td>Algeria</td>\n",
              "      <td>1874</td>\n",
              "      <td>0</td>\n",
              "      <td>0.051308</td>\n",
              "      <td>0</td>\n",
              "      <td>0</td>\n",
              "      <td>0.0</td>\n",
              "      <td>-3.848561</td>\n",
              "      <td>0</td>\n",
              "      <td>0</td>\n",
              "      <td>0</td>\n",
              "      <td>no_crisis</td>\n",
              "    </tr>\n",
              "  </tbody>\n",
              "</table>\n",
              "</div>"
            ],
            "text/plain": [
              "   case  cc3  country  ...  currency_crises  inflation_crises  banking_crisis\n",
              "0     1  DZA  Algeria  ...                0                 0          crisis\n",
              "1     1  DZA  Algeria  ...                0                 0       no_crisis\n",
              "2     1  DZA  Algeria  ...                0                 0       no_crisis\n",
              "3     1  DZA  Algeria  ...                0                 0       no_crisis\n",
              "4     1  DZA  Algeria  ...                0                 0       no_crisis\n",
              "\n",
              "[5 rows x 14 columns]"
            ]
          },
          "metadata": {
            "tags": []
          },
          "execution_count": 46
        }
      ]
    },
    {
      "cell_type": "markdown",
      "metadata": {
        "id": "MusJMzw0f4OQ"
      },
      "source": [
        "**TASK: How many countries are represented in this data set?**\n",
        "\n",
        "*   List item\n",
        "*   List item\n",
        "\n"
      ]
    },
    {
      "cell_type": "code",
      "metadata": {
        "id": "THp_3anef4OR"
      },
      "source": [
        "# CODE HERE"
      ],
      "execution_count": null,
      "outputs": []
    },
    {
      "cell_type": "code",
      "metadata": {
        "id": "B4Mb8yG_f4OR",
        "colab": {
          "base_uri": "https://localhost:8080/"
        },
        "outputId": "6a96fc31-44b2-4652-beb8-08b149f6648f"
      },
      "source": [
        "## df.groupby('country').count() - ##Provides Total 13 Values in the Table\n",
        "df['country'].nunique()           ##Completed"
      ],
      "execution_count": 45,
      "outputs": [
        {
          "output_type": "execute_result",
          "data": {
            "text/plain": [
              "13"
            ]
          },
          "metadata": {
            "tags": []
          },
          "execution_count": 45
        }
      ]
    },
    {
      "cell_type": "markdown",
      "metadata": {
        "id": "syDdsAxKf4OS"
      },
      "source": [
        "**TASK: What are the countries represented in this data set?**"
      ]
    },
    {
      "cell_type": "code",
      "metadata": {
        "id": "xBhyAfTef4OS"
      },
      "source": [
        "# CODE HERE"
      ],
      "execution_count": null,
      "outputs": []
    },
    {
      "cell_type": "code",
      "metadata": {
        "id": "jZGKsOnwf4OS",
        "colab": {
          "base_uri": "https://localhost:8080/"
        },
        "outputId": "1ddf5eff-1365-405c-9ef3-8d71748349b8"
      },
      "source": [
        "df['country'].unique()         ##Completed"
      ],
      "execution_count": 44,
      "outputs": [
        {
          "output_type": "execute_result",
          "data": {
            "text/plain": [
              "array(['Algeria', 'Angola', 'Central African Republic', 'Ivory Coast',\n",
              "       'Egypt', 'Kenya', 'Mauritius', 'Morocco', 'Nigeria',\n",
              "       'South Africa', 'Tunisia', 'Zambia', 'Zimbabwe'], dtype=object)"
            ]
          },
          "metadata": {
            "tags": []
          },
          "execution_count": 44
        }
      ]
    },
    {
      "cell_type": "markdown",
      "metadata": {
        "id": "FksKQSocf4OS"
      },
      "source": [
        "**TASK: What country had this highest annual CPI Inflation rate? What was the inflation rate?**"
      ]
    },
    {
      "cell_type": "code",
      "metadata": {
        "id": "4EZaok6xf4OT"
      },
      "source": [
        "# CODE HERE"
      ],
      "execution_count": null,
      "outputs": []
    },
    {
      "cell_type": "code",
      "metadata": {
        "id": "P0hnvRP-f4OT",
        "colab": {
          "base_uri": "https://localhost:8080/",
          "height": 131
        },
        "outputId": "3371ade7-496b-43d0-8b08-9ddc78f62fcb"
      },
      "source": [
        "df.groupby( ['inflation_annual_cpi']).max().sort_values('cc3', ascending=False).head(1)"
      ],
      "execution_count": 101,
      "outputs": [
        {
          "output_type": "execute_result",
          "data": {
            "text/html": [
              "<div>\n",
              "<style scoped>\n",
              "    .dataframe tbody tr th:only-of-type {\n",
              "        vertical-align: middle;\n",
              "    }\n",
              "\n",
              "    .dataframe tbody tr th {\n",
              "        vertical-align: top;\n",
              "    }\n",
              "\n",
              "    .dataframe thead th {\n",
              "        text-align: right;\n",
              "    }\n",
              "</style>\n",
              "<table border=\"1\" class=\"dataframe\">\n",
              "  <thead>\n",
              "    <tr style=\"text-align: right;\">\n",
              "      <th></th>\n",
              "      <th>case</th>\n",
              "      <th>cc3</th>\n",
              "      <th>country</th>\n",
              "      <th>year</th>\n",
              "      <th>systemic_crisis</th>\n",
              "      <th>exch_usd</th>\n",
              "      <th>domestic_debt_in_default</th>\n",
              "      <th>sovereign_external_debt_default</th>\n",
              "      <th>gdp_weighted_default</th>\n",
              "      <th>independence</th>\n",
              "      <th>currency_crises</th>\n",
              "      <th>inflation_crises</th>\n",
              "      <th>banking_crisis</th>\n",
              "    </tr>\n",
              "    <tr>\n",
              "      <th>inflation_annual_cpi</th>\n",
              "      <th></th>\n",
              "      <th></th>\n",
              "      <th></th>\n",
              "      <th></th>\n",
              "      <th></th>\n",
              "      <th></th>\n",
              "      <th></th>\n",
              "      <th></th>\n",
              "      <th></th>\n",
              "      <th></th>\n",
              "      <th></th>\n",
              "      <th></th>\n",
              "      <th></th>\n",
              "    </tr>\n",
              "  </thead>\n",
              "  <tbody>\n",
              "    <tr>\n",
              "      <th>21989695.22</th>\n",
              "      <td>70</td>\n",
              "      <td>ZWE</td>\n",
              "      <td>Zimbabwe</td>\n",
              "      <td>2008</td>\n",
              "      <td>1</td>\n",
              "      <td>0.002</td>\n",
              "      <td>1</td>\n",
              "      <td>1</td>\n",
              "      <td>0.0</td>\n",
              "      <td>1</td>\n",
              "      <td>1</td>\n",
              "      <td>1</td>\n",
              "      <td>crisis</td>\n",
              "    </tr>\n",
              "  </tbody>\n",
              "</table>\n",
              "</div>"
            ],
            "text/plain": [
              "                      case  cc3  ... inflation_crises  banking_crisis\n",
              "inflation_annual_cpi             ...                                 \n",
              "21989695.22             70  ZWE  ...                1          crisis\n",
              "\n",
              "[1 rows x 13 columns]"
            ]
          },
          "metadata": {
            "tags": []
          },
          "execution_count": 101
        }
      ]
    },
    {
      "cell_type": "markdown",
      "metadata": {
        "id": "eQ1OMPg4f4OT"
      },
      "source": [
        "**TASK: In what year did Kenya have its first System Crisis?**"
      ]
    },
    {
      "cell_type": "code",
      "metadata": {
        "id": "3uT6HdcLf4OU"
      },
      "source": [
        "# CODE HERE"
      ],
      "execution_count": null,
      "outputs": []
    },
    {
      "cell_type": "code",
      "metadata": {
        "id": "4jn6evLkf4OU",
        "colab": {
          "base_uri": "https://localhost:8080/",
          "height": 100
        },
        "outputId": "1d539736-f9f0-42da-b448-c89d02d75f36"
      },
      "source": [
        "df[(df['country'] == 'Kenya') & (df['systemic_crisis']== 1)].head(1)"
      ],
      "execution_count": 100,
      "outputs": [
        {
          "output_type": "execute_result",
          "data": {
            "text/html": [
              "<div>\n",
              "<style scoped>\n",
              "    .dataframe tbody tr th:only-of-type {\n",
              "        vertical-align: middle;\n",
              "    }\n",
              "\n",
              "    .dataframe tbody tr th {\n",
              "        vertical-align: top;\n",
              "    }\n",
              "\n",
              "    .dataframe thead th {\n",
              "        text-align: right;\n",
              "    }\n",
              "</style>\n",
              "<table border=\"1\" class=\"dataframe\">\n",
              "  <thead>\n",
              "    <tr style=\"text-align: right;\">\n",
              "      <th></th>\n",
              "      <th>case</th>\n",
              "      <th>cc3</th>\n",
              "      <th>country</th>\n",
              "      <th>year</th>\n",
              "      <th>systemic_crisis</th>\n",
              "      <th>exch_usd</th>\n",
              "      <th>domestic_debt_in_default</th>\n",
              "      <th>sovereign_external_debt_default</th>\n",
              "      <th>gdp_weighted_default</th>\n",
              "      <th>inflation_annual_cpi</th>\n",
              "      <th>independence</th>\n",
              "      <th>currency_crises</th>\n",
              "      <th>inflation_crises</th>\n",
              "      <th>banking_crisis</th>\n",
              "    </tr>\n",
              "  </thead>\n",
              "  <tbody>\n",
              "    <tr>\n",
              "      <th>475</th>\n",
              "      <td>35</td>\n",
              "      <td>KEN</td>\n",
              "      <td>Kenya</td>\n",
              "      <td>1985</td>\n",
              "      <td>1</td>\n",
              "      <td>16.2843</td>\n",
              "      <td>0</td>\n",
              "      <td>0</td>\n",
              "      <td>0.0</td>\n",
              "      <td>11.398</td>\n",
              "      <td>1</td>\n",
              "      <td>0</td>\n",
              "      <td>0</td>\n",
              "      <td>crisis</td>\n",
              "    </tr>\n",
              "  </tbody>\n",
              "</table>\n",
              "</div>"
            ],
            "text/plain": [
              "     case  cc3 country  ...  currency_crises  inflation_crises  banking_crisis\n",
              "475    35  KEN   Kenya  ...                0                 0          crisis\n",
              "\n",
              "[1 rows x 14 columns]"
            ]
          },
          "metadata": {
            "tags": []
          },
          "execution_count": 100
        }
      ]
    },
    {
      "cell_type": "markdown",
      "metadata": {
        "id": "QkZNcaPXf4OU"
      },
      "source": [
        "**TASK: How many yearly systemic crisises have occurred per country?**"
      ]
    },
    {
      "cell_type": "code",
      "metadata": {
        "id": "0gGq-4fkf4OU"
      },
      "source": [
        "# CODE HERE"
      ],
      "execution_count": null,
      "outputs": []
    },
    {
      "cell_type": "code",
      "metadata": {
        "id": "N3SKavajf4OV",
        "colab": {
          "base_uri": "https://localhost:8080/"
        },
        "outputId": "acbee19a-d9e6-4068-aa4a-4cd2dc3ff443"
      },
      "source": [
        "df.groupby('country').sum()['systemic_crisis']"
      ],
      "execution_count": 102,
      "outputs": [
        {
          "output_type": "execute_result",
          "data": {
            "text/plain": [
              "country\n",
              "Algeria                      4\n",
              "Angola                       0\n",
              "Central African Republic    19\n",
              "Egypt                        6\n",
              "Ivory Coast                  4\n",
              "Kenya                       13\n",
              "Mauritius                    0\n",
              "Morocco                      2\n",
              "Nigeria                     10\n",
              "South Africa                 0\n",
              "Tunisia                      5\n",
              "Zambia                       4\n",
              "Zimbabwe                    15\n",
              "Name: systemic_crisis, dtype: int64"
            ]
          },
          "metadata": {
            "tags": []
          },
          "execution_count": 102
        }
      ]
    },
    {
      "cell_type": "markdown",
      "metadata": {
        "id": "AI0yq2kSf4OV"
      },
      "source": [
        "**TASK: How many years did  Zimbabwe have a sovereign external debt default occur?** "
      ]
    },
    {
      "cell_type": "code",
      "metadata": {
        "id": "MLCOrXyBf4OV"
      },
      "source": [
        "# CODE HERE"
      ],
      "execution_count": null,
      "outputs": []
    },
    {
      "cell_type": "code",
      "metadata": {
        "id": "h4TTiRaTmw_n",
        "colab": {
          "base_uri": "https://localhost:8080/"
        },
        "outputId": "d7135b46-a8e9-4d68-ad51-96014609e577"
      },
      "source": [
        "df.groupby('country').sum()['sovereign_external_debt_default']['Zimbabwe']\n",
        "\n"
      ],
      "execution_count": 103,
      "outputs": [
        {
          "output_type": "execute_result",
          "data": {
            "text/plain": [
              "30"
            ]
          },
          "metadata": {
            "tags": []
          },
          "execution_count": 103
        }
      ]
    }
  ]
}